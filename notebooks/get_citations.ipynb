{
 "cells": [
  {
   "cell_type": "code",
   "execution_count": 45,
   "metadata": {},
   "outputs": [],
   "source": [
    "import requests\n",
    "from xml.etree import ElementTree as ET\n",
    "from bs4 import BeautifulSoup\n",
    "import re\n",
    "import itertools\n",
    "import pandas as pd"
   ]
  },
  {
   "cell_type": "code",
   "execution_count": 46,
   "metadata": {},
   "outputs": [],
   "source": [
    "abbrs = {'Gen': 'Gen', 'Exod': 'Exod', 'Lev': 'Lev', 'Num': 'Num', 'Deut': 'Deut', 'Jos': 'Josh', 'Jud': 'Judg',\n",
    "         'I Sam': '1 Sam', 'II Sam': '2 Sam', 'I Kön': '1 Kgs', 'II Kön': '2 Kgs', 'I Chron': '1 Chr',\n",
    "         'II Chron': '2 Chr', 'Psal': 'Ps', 'Prov': 'Prov', 'Job': 'Job', 'Jes': 'Isa', 'Jerem': 'Jer',\n",
    "         'Ezech': 'Ezek', 'Dan': 'Dan', 'Matth': 'Matt', 'Mark': 'Mark', 'Luk': 'Luke', 'Joh': 'John', 'Act': 'Acts',\n",
    "         'Rom': 'Rom', 'I Kor': '1 Cor', 'II Cor': '2 Cor', 'Gal': 'Gal', 'Eph': 'Eph', 'Phil': 'Phil', 'Kol': 'Col',\n",
    "         'I Tim': '1 Tim', 'II Tim': '2 Tim', 'Tit': 'Titus', 'Hebr': 'Heb', 'I Petr': '1 Pet', 'II Petr': '2 Pet',\n",
    "         'I Joh': '1 John', 'II Joh': '2 John', 'III Joh': '3 John', 'Apok Joh': 'Rev'}"
   ]
  },
  {
   "cell_type": "code",
   "execution_count": 47,
   "metadata": {},
   "outputs": [],
   "source": [
    "ger_abbrs = []\n",
    "for k in abbrs.keys():\n",
    "    ger_abbrs.append(k)"
   ]
  },
  {
   "cell_type": "code",
   "execution_count": 48,
   "metadata": {},
   "outputs": [],
   "source": [
    "re_pattern = ''\n",
    "for abbr in ger_abbrs:\n",
    "    pattern = abbr + '. \\d+|' + abbr + ' \\d+|'\n",
    "    re_pattern = re_pattern + pattern\n",
    "re_pattern = re_pattern[:-1]  # remove final |"
   ]
  },
  {
   "cell_type": "code",
   "execution_count": 49,
   "metadata": {
    "scrolled": true
   },
   "outputs": [
    {
     "data": {
      "text/plain": [
       "'Gen. \\\\d+|Gen \\\\d+|Exod. \\\\d+|Exod \\\\d+|Lev. \\\\d+|Lev \\\\d+|Num. \\\\d+|Num \\\\d+|Deut. \\\\d+|Deut \\\\d+|Jos. \\\\d+|Jos \\\\d+|Jud. \\\\d+|Jud \\\\d+|I Sam. \\\\d+|I Sam \\\\d+|II Sam. \\\\d+|II Sam \\\\d+|I Kön. \\\\d+|I Kön \\\\d+|II Kön. \\\\d+|II Kön \\\\d+|I Chron. \\\\d+|I Chron \\\\d+|II Chron. \\\\d+|II Chron \\\\d+|Psal. \\\\d+|Psal \\\\d+|Prov. \\\\d+|Prov \\\\d+|Job. \\\\d+|Job \\\\d+|Jes. \\\\d+|Jes \\\\d+|Jerem. \\\\d+|Jerem \\\\d+|Ezech. \\\\d+|Ezech \\\\d+|Dan. \\\\d+|Dan \\\\d+|Matth. \\\\d+|Matth \\\\d+|Mark. \\\\d+|Mark \\\\d+|Luk. \\\\d+|Luk \\\\d+|Joh. \\\\d+|Joh \\\\d+|Act. \\\\d+|Act \\\\d+|Rom. \\\\d+|Rom \\\\d+|I Kor. \\\\d+|I Kor \\\\d+|II Cor. \\\\d+|II Cor \\\\d+|Gal. \\\\d+|Gal \\\\d+|Eph. \\\\d+|Eph \\\\d+|Phil. \\\\d+|Phil \\\\d+|Kol. \\\\d+|Kol \\\\d+|I Tim. \\\\d+|I Tim \\\\d+|II Tim. \\\\d+|II Tim \\\\d+|Tit. \\\\d+|Tit \\\\d+|Hebr. \\\\d+|Hebr \\\\d+|I Petr. \\\\d+|I Petr \\\\d+|II Petr. \\\\d+|II Petr \\\\d+|I Joh. \\\\d+|I Joh \\\\d+|II Joh. \\\\d+|II Joh \\\\d+|III Joh. \\\\d+|III Joh \\\\d+|Apok Joh. \\\\d+|Apok Joh \\\\d+'"
      ]
     },
     "execution_count": 49,
     "metadata": {},
     "output_type": "execute_result"
    }
   ],
   "source": [
    "re_pattern"
   ]
  },
  {
   "cell_type": "code",
   "execution_count": 50,
   "metadata": {},
   "outputs": [],
   "source": [
    "url = 'https://raw.githubusercontent.com/OpenGreekAndLatin/First1KGreek/master/data/tlg2042/tlg009/tlg2042.tlg009.opp-grc1.xml'\n",
    "response = requests.get(url)\n",
    "xml = response.text\n",
    "soup = BeautifulSoup(xml, 'xml')"
   ]
  },
  {
   "cell_type": "code",
   "execution_count": 51,
   "metadata": {},
   "outputs": [],
   "source": [
    "master_list = []  # list of all references\n",
    "relation_lists = []  # list of relation lists\n",
    "notes = soup.find_all('note')\n",
    "for note in notes:\n",
    "    refs = re.findall(re_pattern, note.text)\n",
    "    master_list.extend(refs)\n",
    "    relation_lists.append(refs)\n",
    "# root = ET.fromstring(xml)\n",
    "\n",
    "# homilies = root.findall('./{http://www.tei-c.org/ns/1.0}text/{http://www.tei-c.org/ns/1.0}body/{http://www.tei-c.org/ns'\n",
    "#                         '/1.0}div/{http://www.tei-c.org/ns/1.0}div')\n",
    "# for homily in homilies:\n",
    "#     sections = homily.findall('./{http://www.tei-c.org/ns/1.0}div')\n",
    "#     for section in sections:\n",
    "#         paras = section.findall('./{http://www.tei-c.org/ns/1.0}p')\n",
    "#         for p in paras:\n",
    "#             notes = p.findall('./{http://www.tei-c.org/ns/1.0}note[1]')\n",
    "#             for note in notes:\n",
    "#                 refs = re.findall(re_pattern, note.text)\n",
    "#                 master_list.extend(refs)\n",
    "#                 relation_lists.append(refs)\n",
    "master_list = list(set(master_list))  # get only unique values"
   ]
  },
  {
   "cell_type": "code",
   "execution_count": 52,
   "metadata": {
    "scrolled": false
   },
   "outputs": [
    {
     "name": "stdout",
     "output_type": "stream",
     "text": [
      "189\n",
      "['Gal. 5', 'Psal. 44', 'Psal. 33', 'Act. 14', 'Exod. 29', 'Rom. 6', 'Ezech. 36', 'Psal. 17', 'Joh. 10', 'Gen. 18', 'Matth. 7', 'Matth. 6', 'Joh. 11', 'Joh. 20', 'Psal. 144', 'Rom. 8', 'Deut. 24', 'Mark. 4', 'Gen. 1', 'Matth. 22', 'Jerem. 2', 'Joh. 3', 'Prov. 8', 'Gen. 20', 'Num. 16', 'Gen. 12', 'Psal. 35', 'Job. 12', 'Deut. 12', 'Psal. 74', 'Phil. 1', 'Matth. 25', 'Num. 10', 'Job. 11', 'Jes. 54', 'Rom. 1', 'I Tim. 2', 'Gen. 4', 'I Kor. 5', 'Jerem. 34', 'Joh. 5', 'Luk. 16', 'Hebr. 1', 'Exod. 34', 'Job. 8', 'I Kor. 7', 'Joh. 12', 'Joh. 8', 'Act. 7', 'Psal. 9', 'Prov. 3', 'I Kor. 13', 'Job. 1', 'Hebr. 12', 'Ezech. 1', 'Psal. 136', 'Jes. 66', 'Act. 4', 'Gen. 17', 'Exod. 3', 'Ezech. 16', 'Jes. 9', 'Psal. 103', 'Mark. 9', 'Psal. 18', 'Matth. 4', 'I Kor. 1', 'Hebr. 7', 'Eph. 5', 'Jes. 1', 'Gal. 4', 'II Tim. 2', 'Matth. 21', 'I Petr. 4', 'Luk. 12', 'Job. 3', 'Act. 13', 'Psal. 78', 'Deut. 32', 'Psal. 134', 'Joh. 4', 'Kol. 1', 'Eph. 1', 'Luk. 18', 'Luk. 1', 'Joh. 14', 'I Tim. 3', 'Jes. 58', 'Rom. 11', 'Lev. 26', 'Ezech. 7', 'Kol. 2', 'Jerem. 15', 'I Kor. 12', 'Jerem. 13', 'Psal. 67', 'Job. 14', 'Luk. 2', 'Luk. 8', 'Jerem. 31', 'Jes. 4', 'II Tim. 1', 'Act. 2', 'Dan. 9', 'Matth. 13', 'Hebr. 8', 'Gen. 19', 'Prov. 1', 'Psal. 94', 'Matth. 5', 'Matth. 24', 'Joh. 1', 'Luk. 3', 'Luk. 10', 'Act. 3', 'Jes. 53', 'Luk. 21', 'Gen. 3', 'Deut. 16', 'Num. 18', 'Deut. 18', 'I Tim. 1', 'I Petr. 2', 'Luk. 14', 'Jerem. 3', 'Hebr. 9', 'Deut. 15', 'Psal. 38', 'Luk. 13', 'I Kor. 15', 'Hebr. 4', 'Jerem. 9', 'Matth. 26', 'Exod. 4', 'Psal. 128', 'Deut. 19', 'Exod. 7', 'Jes. 7', 'Joh. 2', 'Luk. 6', 'Matth. 0', 'I Kor. 3', 'Exod. 15', 'I Kor. 9', 'Luk. 11', 'Jerem. 18', 'Jes. 11', 'Gen. 49', 'II Kön. 17', 'Psal. 4', 'Hebr. 5', 'Eph. 2', 'Psal, 21', 'II Tim. 3', 'Hebr. 6', 'Phil. 3', 'I Kor. 6', 'Phil. 2', 'Gen. 2', 'Tit. 3', 'Matth. 23', 'Jes. 5', 'Psal. 2', 'Psal. 37', 'Matth. 11', 'Psal. 21', 'Matth. 10', 'Matth. 18', 'Matth. 15', 'Matth. 12', 'Kol. 3', 'Prov. 20', 'Jes. 3', 'Jerem. 45', 'Psal. 43', 'Psal. 51', 'Luk. 9', 'Rom. 9', 'Eph. 4', 'Eph. 3', 'Jerem. 25', 'Jes. 6', 'Gal. 6', 'Matth. 20', 'Matth. 3', 'Jes. 40', 'I Kor. 4', 'Psal. 76', 'Psal. 45']\n"
     ]
    }
   ],
   "source": [
    "print(len(master_list))\n",
    "print(master_list)"
   ]
  },
  {
   "cell_type": "code",
   "execution_count": 39,
   "metadata": {},
   "outputs": [],
   "source": [
    "id2label = {}\n",
    "label2id = {}\n",
    "i = 1\n",
    "for ref in master_list:\n",
    "    id2label[i] = ref\n",
    "    label2id[ref] = i\n",
    "    i+=1"
   ]
  },
  {
   "cell_type": "code",
   "execution_count": 40,
   "metadata": {},
   "outputs": [],
   "source": [
    "nodes_df = pd.DataFrame.from_dict(id2label, orient='index')\n",
    "nodes_df['Id'] = nodes_df.index\n",
    "nodes_df = nodes_df.rename(columns={0: 'Label'})\n",
    "nodes_df = nodes_df[['Id', 'Label']]"
   ]
  },
  {
   "cell_type": "code",
   "execution_count": 41,
   "metadata": {},
   "outputs": [],
   "source": [
    "nodes_df.to_csv('nodes.csv', index=False)"
   ]
  },
  {
   "cell_type": "code",
   "execution_count": 42,
   "metadata": {},
   "outputs": [],
   "source": [
    "relations_id_lists = []\n",
    "for list_ in relation_lists:\n",
    "    if len(list_) > 1:  #ignore lists with 0 or 1 items\n",
    "        id_list = []\n",
    "        for ref in list_:\n",
    "            id_ = label2id[ref]\n",
    "            id_list.append(id_)\n",
    "            comb_list = list(itertools.combinations(id_list, 2))\n",
    "        relations_id_lists.append(comb_list)"
   ]
  },
  {
   "cell_type": "code",
   "execution_count": 43,
   "metadata": {},
   "outputs": [],
   "source": [
    "edges_list = []\n",
    "for l in relations_id_lists:\n",
    "    for t in l:\n",
    "        edges_list.append(t)"
   ]
  },
  {
   "cell_type": "code",
   "execution_count": 44,
   "metadata": {},
   "outputs": [],
   "source": [
    "data = list(set(edges_list))\n",
    "edges_df = pd.DataFrame(data, columns=['Source', 'Target'])\n",
    "edges_df.to_csv('edges.csv', index=False)"
   ]
  }
 ],
 "metadata": {
  "kernelspec": {
   "display_name": "Python 3",
   "language": "python",
   "name": "python3"
  },
  "language_info": {
   "codemirror_mode": {
    "name": "ipython",
    "version": 3
   },
   "file_extension": ".py",
   "mimetype": "text/x-python",
   "name": "python",
   "nbconvert_exporter": "python",
   "pygments_lexer": "ipython3",
   "version": "3.6.5"
  }
 },
 "nbformat": 4,
 "nbformat_minor": 2
}
